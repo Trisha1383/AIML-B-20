{
  "nbformat": 4,
  "nbformat_minor": 0,
  "metadata": {
    "colab": {
      "provenance": [],
      "authorship_tag": "ABX9TyNaEyJg2QHX5cJRI5z3zMR1",
      "include_colab_link": true
    },
    "kernelspec": {
      "name": "python3",
      "display_name": "Python 3"
    },
    "language_info": {
      "name": "python"
    }
  },
  "cells": [
    {
      "cell_type": "markdown",
      "metadata": {
        "id": "view-in-github",
        "colab_type": "text"
      },
      "source": [
        "<a href=\"https://colab.research.google.com/github/Trisha1383/AIML-B-20/blob/main/Untitled0.ipynb\" target=\"_parent\"><img src=\"https://colab.research.google.com/assets/colab-badge.svg\" alt=\"Open In Colab\"/></a>"
      ]
    },
    {
      "cell_type": "code",
      "execution_count": 1,
      "metadata": {
        "colab": {
          "base_uri": "https://localhost:8080/"
        },
        "id": "01l9y9qzAri2",
        "outputId": "c94083f3-823c-4e39-9c5f-814359a93f82"
      },
      "outputs": [
        {
          "output_type": "stream",
          "name": "stdout",
          "text": [
            "list= [4, 5, 6, 7]\n",
            "array= [4 5 6 7]\n"
          ]
        }
      ],
      "source": [
        "import numpy as np\n",
        "list1=[4,5,6,7]\n",
        "array1=np.array(list1)\n",
        "print(\"list=\",list1)\n",
        "print(\"array=\",array1)"
      ]
    }
  ]
}