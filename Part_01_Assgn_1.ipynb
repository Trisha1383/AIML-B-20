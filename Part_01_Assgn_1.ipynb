{
  "nbformat": 4,
  "nbformat_minor": 0,
  "metadata": {
    "colab": {
      "provenance": [],
      "authorship_tag": "ABX9TyMwFqwpKr/NyY3QL4uW9OzA",
      "include_colab_link": true
    },
    "kernelspec": {
      "name": "python3",
      "display_name": "Python 3"
    },
    "language_info": {
      "name": "python"
    }
  },
  "cells": [
    {
      "cell_type": "markdown",
      "metadata": {
        "id": "view-in-github",
        "colab_type": "text"
      },
      "source": [
        "<a href=\"https://colab.research.google.com/github/Trisha1383/AIML-B-20/blob/main/Part_01_Assgn_1.ipynb\" target=\"_parent\"><img src=\"https://colab.research.google.com/assets/colab-badge.svg\" alt=\"Open In Colab\"/></a>"
      ]
    },
    {
      "cell_type": "code",
      "execution_count": 2,
      "metadata": {
        "colab": {
          "base_uri": "https://localhost:8080/"
        },
        "id": "01l9y9qzAri2",
        "outputId": "8f835c43-4e3a-434c-c416-3dc6d3821d12"
      },
      "outputs": [
        {
          "output_type": "stream",
          "name": "stdout",
          "text": [
            "list= [4, 5, 6, 7]\n",
            "array= [4 5 6 7]\n"
          ]
        }
      ],
      "source": [
        "import numpy as np\n",
        "list1=[4,5,6,7]\n",
        "array1=np.array(list1)\n",
        "print(\"list=\",list1)\n",
        "print(\"array=\",array1)"
      ]
    },
    {
      "cell_type": "code",
      "source": [
        "print(\"type of list1:\",type(list1))\n",
        "print(\"type of array1:\",type(array1))"
      ],
      "metadata": {
        "colab": {
          "base_uri": "https://localhost:8080/"
        },
        "id": "RJUWUMODFyLi",
        "outputId": "e9a4f654-be9d-4b39-9e8a-01a267336fda"
      },
      "execution_count": 3,
      "outputs": [
        {
          "output_type": "stream",
          "name": "stdout",
          "text": [
            "type of list1: <class 'list'>\n",
            "type of array1: <class 'numpy.ndarray'>\n"
          ]
        }
      ]
    },
    {
      "cell_type": "code",
      "source": [
        "a1=[5,6,7,8]\n",
        "a2=[1,5,6,9]\n",
        "a=np.add(a1,a2)\n",
        "print(a)\n",
        "s=np.subtract(a1,a2)\n",
        "print(s)\n",
        "m=np.multiply(a1,a2)\n",
        "print(m)\n",
        "d=np.divide(a1,a2)\n",
        "print(d)\n",
        "p=np.power(a1,a2)\n",
        "print(p)"
      ],
      "metadata": {
        "colab": {
          "base_uri": "https://localhost:8080/"
        },
        "id": "s07a4WyUHMZ3",
        "outputId": "81e015f8-afa3-462a-a020-3a39510fb9b1"
      },
      "execution_count": 4,
      "outputs": [
        {
          "output_type": "stream",
          "name": "stdout",
          "text": [
            "[ 6 11 13 17]\n",
            "[ 4  1  1 -1]\n",
            "[ 5 30 42 72]\n",
            "[5.         1.2        1.16666667 0.88888889]\n",
            "[        5      7776    117649 134217728]\n"
          ]
        }
      ]
    },
    {
      "cell_type": "code",
      "source": [
        "n1=input()\n",
        "n2=input()\n",
        "n=np.char.add(n1,n2)\n",
        "print(n)"
      ],
      "metadata": {
        "colab": {
          "base_uri": "https://localhost:8080/"
        },
        "id": "iMyR92I8IIcL",
        "outputId": "4fccfd07-4d3d-4a7d-bd3f-69f6887ca9f5"
      },
      "execution_count": 5,
      "outputs": [
        {
          "output_type": "stream",
          "name": "stdout",
          "text": [
            "abc\n",
            "def\n",
            "abcdef\n"
          ]
        }
      ]
    },
    {
      "cell_type": "code",
      "source": [
        "#sin\n",
        "x=np.pi/4\n",
        "sin_result=np.sin(x)\n",
        "print(\"sin(x):\",sin_result)\n",
        "\n",
        "#log\n",
        "x=10\n",
        "log_result=np.log(x)\n",
        "print(\"log(x):\",log_result)\n",
        "\n",
        "#log2\n",
        "x=16\n",
        "log2_result=np.log2(x)\n",
        "print(\"log(x):\",log_result)\n",
        "\n",
        "#exp\n",
        "x=2\n",
        "exp_result=np.exp(x)\n",
        "print(\"exp(x):\",exp_result)\n"
      ],
      "metadata": {
        "colab": {
          "base_uri": "https://localhost:8080/"
        },
        "id": "M2c2aj59IitH",
        "outputId": "488d735b-704f-425a-c20f-2a5832c0f57e"
      },
      "execution_count": 6,
      "outputs": [
        {
          "output_type": "stream",
          "name": "stdout",
          "text": [
            "sin(x): 0.7071067811865475\n",
            "log(x): 2.302585092994046\n",
            "log(x): 2.302585092994046\n",
            "exp(x): 7.38905609893065\n"
          ]
        }
      ]
    }
  ]
}